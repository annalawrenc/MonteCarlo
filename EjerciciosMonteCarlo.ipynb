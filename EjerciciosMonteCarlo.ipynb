{
 "cells": [
  {
   "cell_type": "markdown",
   "metadata": {},
   "source": [
    "### Volumen de la esfera"
   ]
  },
  {
   "cell_type": "markdown",
   "metadata": {},
   "source": [
    "Calcular el volumen de una esfera de radio 1 utilizando simulación Montecarlo"
   ]
  },
  {
   "cell_type": "code",
   "execution_count": 26,
   "metadata": {
    "collapsed": false
   },
   "outputs": [
    {
     "data": {
      "application/javascript": [
       "IPython.notebook.set_autosave_interval(0)"
      ]
     },
     "metadata": {},
     "output_type": "display_data"
    },
    {
     "name": "stdout",
     "output_type": "stream",
     "text": [
      "Autosave disabled\n"
     ]
    }
   ],
   "source": [
    "%autosave 0\n",
    "import numpy as np\n",
    "import pandas as pd\n",
    "import time as tm\n",
    "import matplotlib.pyplot as plt\n",
    "%matplotlib inline"
   ]
  },
  {
   "cell_type": "code",
   "execution_count": 27,
   "metadata": {
    "collapsed": false
   },
   "outputs": [],
   "source": [
    "#Lanza una simulacion Monte Carlo de n iteraciones\n",
    "def MC_PI(n):\n",
    "    x =  np.random.rand(n)\n",
    "    y =  np.random.rand(n)\n",
    "    z =  np.random.rand(n)\n",
    "    c=np.where((x**2.0 + y**2.0+z**2) <= 1, 1, 0)\n",
    "    p=np.sum(c)    \n",
    "    return 8.0*p/n\n",
    "\n",
    "#Lanza 100 simulaciones Monte Carlo de n iteraciones\n",
    "#y devuelve Media y Std del resultado de las 100 simulaciones\n",
    "def Simula(n):    \n",
    "    a=list(map(MC_PI, [n] * 100))\n",
    "    return [np.mean(a), np.std(a)]"
   ]
  },
  {
   "cell_type": "code",
   "execution_count": 28,
   "metadata": {
    "collapsed": false
   },
   "outputs": [
    {
     "name": "stdout",
     "output_type": "stream",
     "text": [
      "4.191256\n",
      "Time: 0.06\n"
     ]
    }
   ],
   "source": [
    "#Evalua la funcion con una simulacion Monte Carlo de 1.000.000 iteraciones\n",
    "start = tm.time()\n",
    "print(MC_PI(1000000))\n",
    "end = tm.time()\n",
    "print(\"Time: %.2f\" % (end - start))\n"
   ]
  },
  {
   "cell_type": "code",
   "execution_count": 13,
   "metadata": {
    "collapsed": false
   },
   "outputs": [
    {
     "name": "stdout",
     "output_type": "stream",
     "text": [
      "   Num Sim      Mean       Std\n",
      "0      100  2.152800  0.223741\n",
      "1      400  2.093400  0.094172\n",
      "2    1,600  2.087675  0.047312\n",
      "3    6,400  2.092762  0.023095\n",
      "4   25,600  2.092781  0.011903\n",
      "5  102,400  2.095520  0.006538\n",
      "6  409,600  2.093876  0.002910\n",
      "Time: 3.09\n"
     ]
    }
   ],
   "source": [
    "start = tm.time()\n",
    "\n",
    "ns=[100*4**i for i in range(7)]\n",
    "df = pd.DataFrame({'Num Sim': ns})\n",
    "df['Num Sim'] = df['Num Sim'].map('{:,.0f}'.format)\n",
    "\n",
    "k = map(Simula, ns)\n",
    "df['Mean'], df['Std'] = zip(*k)\n",
    "\n",
    "print(df)\n",
    "end = tm.time()\n",
    "print(\"Time: %.2f\" % (end - start))"
   ]
  },
  {
   "cell_type": "markdown",
   "metadata": {},
   "source": [
    "### Paradoja del cumpleaños"
   ]
  },
  {
   "cell_type": "markdown",
   "metadata": {},
   "source": [
    "El problema del cumpleaños, también llamado paradoja del cumpleaños, establece que de un conjunto de 23 personas, hay una probabilidad del 50,7% de que al menos dos personas de ellas cumplan años el mismo día. Para 57 o más personas la probabilidad es mayor del 99%.\n",
    "(1 - p) es la probabilidad de que al menos dos personas tengan el mismo día de cumpleaños.\n",
    "\n",
    "Estimar la curva de probabilidad en función del número de personas mediante simulación montecarlo"
   ]
  },
  {
   "cell_type": "code",
   "execution_count": 17,
   "metadata": {
    "collapsed": false
   },
   "outputs": [
    {
     "name": "stdout",
     "output_type": "stream",
     "text": [
      "-   2: 0.34%\n",
      "-   3: 0.83%\n",
      "-   4: 1.82%\n",
      "-   5: 2.74%\n",
      "-   6: 4.19%\n",
      "-   7: 6.06%\n",
      "-   8: 6.85%\n",
      "-   9: 9.42%\n",
      "-  10: 11.65%\n",
      "-  11: 14.00%\n",
      "-  12: 16.67%\n",
      "-  13: 19.56%\n",
      "-  14: 21.66%\n",
      "-  15: 25.39%\n",
      "-  16: 28.33%\n",
      "-  17: 32.01%\n",
      "-  18: 34.88%\n",
      "-  19: 38.64%\n",
      "-  20: 41.69%\n",
      "-  21: 44.04%\n",
      "-  22: 47.42%\n",
      "-  23: 50.54%\n",
      "-  24: 53.48%\n",
      "-  25: 56.51%\n",
      "-  26: 59.73%\n",
      "-  27: 62.70%\n",
      "-  28: 66.41%\n",
      "-  29: 66.99%\n",
      "-  30: 70.62%\n",
      "-  31: 73.02%\n",
      "-  32: 75.15%\n",
      "-  33: 77.48%\n",
      "-  34: 80.27%\n",
      "-  35: 81.37%\n",
      "-  36: 82.47%\n",
      "-  37: 84.41%\n",
      "-  38: 86.90%\n",
      "-  39: 88.07%\n",
      "-  40: 88.77%\n",
      "-  41: 90.40%\n",
      "-  42: 91.40%\n",
      "-  43: 92.00%\n",
      "-  44: 93.58%\n",
      "-  45: 93.54%\n",
      "-  46: 94.81%\n",
      "-  47: 95.49%\n",
      "-  48: 95.79%\n",
      "-  49: 96.79%\n",
      "-  50: 96.91%\n",
      "-  51: 97.54%\n",
      "-  52: 97.63%\n",
      "-  53: 98.21%\n",
      "-  54: 98.42%\n",
      "-  55: 98.81%\n",
      "-  56: 98.94%\n",
      "-  57: 99.06%\n",
      "-  58: 98.99%\n",
      "-  59: 99.27%\n"
     ]
    }
   ],
   "source": [
    "def Paradoja(n):\n",
    "    ncols=n \n",
    "    nrows=10000 \n",
    "    \n",
    "    a= np.random.randint(1,366,nrows*ncols).reshape(nrows,ncols)\n",
    "    #a= np.sort(a, axis=1)\n",
    "    c=[]\n",
    "    for i in np.arange(0,nrows):\n",
    "        z=a[i,:]\n",
    "        p=np.count_nonzero(np.unique(z))\n",
    "        c.append(p)\n",
    "        \n",
    "    c=np.asarray(c)\n",
    "    x=np.where(c==ncols,0,1)\n",
    "    return np.sum(1.0*x)/nrows\n",
    "\n",
    "for i in np.arange(2,60):\n",
    "    print('- {:=3d}: {:=4.2f}%'. format(i, Paradoja(i)*100))"
   ]
  },
  {
   "cell_type": "markdown",
   "metadata": {},
   "source": [
    "### Tiempo de construcción"
   ]
  },
  {
   "cell_type": "markdown",
   "metadata": {
    "collapsed": true
   },
   "source": [
    "Supongamos que para construir una casa debemos efectuar la siguiente lista de tareas: \n",
    "\n",
    "• T1 - cimientos - tiempo aleatorio uniforme entre 32 y 48 hs. \n",
    "\n",
    "• T2 - paredes - tiempo aleatorio uniforme entre 40 y 60 hs. \n",
    "\n",
    "• T3 - techo - tiempo aleatorio uniforme entre 15 y 25 hs. \n",
    "\n",
    "• T4 - instalación sanitaria - tiempo aleatorio uniforme entre 10 y 15 hs. \n",
    "\n",
    "• T5 - instalación eléctrica - tiempo aleatorio uniforme entre 10 y 15 hs. \n",
    "\n",
    "• T6 - cerramientos - tiempo aleatorio uniforme entre 6 y 10 hs \n",
    "\n",
    "• T7 - pintura - tiempo aleatorio uniforme entre 18 y 24 hs. \n",
    "\n",
    "• T8 - limpieza final - tiempo aleatorio uniforme entre 4 y 8 hs.\n",
    "\n",
    "\n",
    "\n",
    "Hay ciertas dependencias que implican que una tarea no puede comenzar hasta haberse terminado otra previa: \n",
    "\n",
    "• T2, T3 dependen de 1 \n",
    "\n",
    "• T3 depende de 2 \n",
    "\n",
    "• T4 depende de 2 \n",
    "\n",
    "• T5 depende de 2 y 3 \n",
    "\n",
    "• T6 depende de 2 y 3 \n",
    "\n",
    "• T7 depende de 2, 4 y 5 \n",
    "\n",
    "• T8 depende de 4, 5, 6 y 7 \n",
    "\n",
    "\n",
    "Estimar el tiempo medio de construcción."
   ]
  },
  {
   "cell_type": "code",
   "execution_count": 25,
   "metadata": {
    "collapsed": false
   },
   "outputs": [
    {
     "data": {
      "text/plain": [
       "235"
      ]
     },
     "execution_count": 25,
     "metadata": {},
     "output_type": "execute_result"
    }
   ],
   "source": [
    "import numpy as np\n",
    "\n",
    "n=10000\n",
    "tfinal=0\n",
    "c=[]\n",
    "for i in np.arange(0,n):\n",
    "    T1= np.random.randint(32,48)\n",
    "    T2= np.random.randint(40,60)\n",
    "    T3= np.random.randint (15,25)\n",
    "    T4= np.random.randint (10,15)\n",
    "    T5= np.random.randint (10,15)\n",
    "    T6= np.random.randint (6,10)\n",
    "    T7= np.random.randint (18,24)\n",
    "    T8= np.random.randint (4,8)\n",
    "    \n",
    "    \n",
    "    T2=T2+T1\n",
    "    T3=T3+T2\n",
    "    T4=T4+T2\n",
    "    T5=T4+max(T2,T3)\n",
    "    T6=T4+max(T2,T3)\n",
    "    T7=T7 + max(T2,T4,T5)\n",
    "    T8=T8 + max(T4,T5,T6,T7)\n",
    "    \n",
    "    tfinal = tfinal+T8\n",
    "    \n",
    "tfinal = tfinal/n\n",
    "\n",
    "tfinal"
   ]
  },
  {
   "cell_type": "markdown",
   "metadata": {},
   "source": [
    "### Integral"
   ]
  },
  {
   "cell_type": "markdown",
   "metadata": {},
   "source": [
    "Resolver la integral:\n",
    "    \n",
    "• mediante un muestreo de una distribución uniforme y, opcionalmente\n",
    "\n",
    "• mediante muestreo por importancia con la función de prueba"
   ]
  },
  {
   "cell_type": "code",
   "execution_count": null,
   "metadata": {
    "collapsed": true
   },
   "outputs": [],
   "source": [
    "def MC_x(n):\n",
    "    k=-1/3"
   ]
  },
  {
   "cell_type": "code",
   "execution_count": null,
   "metadata": {
    "collapsed": true
   },
   "outputs": [],
   "source": []
  }
 ],
 "metadata": {
  "anaconda-cloud": {},
  "kernelspec": {
   "display_name": "Python 2",
   "language": "python",
   "name": "python2"
  },
  "language_info": {
   "codemirror_mode": {
    "name": "ipython",
    "version": 2
   },
   "file_extension": ".py",
   "mimetype": "text/x-python",
   "name": "python",
   "nbconvert_exporter": "python",
   "pygments_lexer": "ipython2",
   "version": "2.7.11"
  }
 },
 "nbformat": 4,
 "nbformat_minor": 0
}
